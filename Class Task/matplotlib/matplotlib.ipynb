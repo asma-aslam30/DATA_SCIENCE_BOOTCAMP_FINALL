{
 "cells": [
  {
   "cell_type": "code",
   "execution_count": null,
   "id": "e47193d1-b830-48e9-b4e2-7250fe870f79",
   "metadata": {},
   "outputs": [],
   "source": [
    "import matplotlib as plt"
   ]
  },
  {
   "cell_type": "code",
   "execution_count": null,
   "id": "e6023b63-0cf1-49d4-a5c2-472f0ad59d11",
   "metadata": {},
   "outputs": [],
   "source": [
    "%matplotlib inline"
   ]
  },
  {
   "cell_type": "code",
   "execution_count": null,
   "id": "72b58019-e079-4166-831c-f0f647dda38b",
   "metadata": {},
   "outputs": [],
   "source": [
    "import numpy as np"
   ]
  },
  {
   "cell_type": "code",
   "execution_count": null,
   "id": "e7bc36ae-d18e-49d1-83d0-a6566a225a87",
   "metadata": {},
   "outputs": [],
   "source": [
    "x=np.arrange(1,11)\n",
    "y=np.arrange(11,21)"
   ]
  },
  {
   "cell_type": "code",
   "execution_count": null,
   "id": "e6d1c878-d740-4a47-aa06-964561928c68",
   "metadata": {},
   "outputs": [],
   "source": [
    "plt.scatter(x,y,c=\"g\")\n",
    "plt.xlabel(\"X axis\")\n",
    "plt .ylabel(\"Y axis\")\n",
    "plt.title(\"numpy array\")\n",
    "plt.savefig()"
   ]
  },
  {
   "cell_type": "code",
   "execution_count": null,
   "id": "a05b425f-cbab-40ed-afdc-133b19912aaa",
   "metadata": {},
   "outputs": [],
   "source": []
  }
 ],
 "metadata": {
  "kernelspec": {
   "display_name": "Python 3 (ipykernel)",
   "language": "python",
   "name": "python3"
  },
  "language_info": {
   "codemirror_mode": {
    "name": "ipython",
    "version": 3
   },
   "file_extension": ".py",
   "mimetype": "text/x-python",
   "name": "python",
   "nbconvert_exporter": "python",
   "pygments_lexer": "ipython3",
   "version": "3.12.0"
  }
 },
 "nbformat": 4,
 "nbformat_minor": 5
}
